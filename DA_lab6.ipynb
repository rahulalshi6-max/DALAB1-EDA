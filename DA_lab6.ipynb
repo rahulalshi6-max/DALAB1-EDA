{
  "cells": [
    {
      "cell_type": "code",
      "execution_count": null,
      "metadata": {
        "id": "06737d1b"
      },
      "outputs": [],
      "source": [
        "import numpy as np \n",
        "import pandas as pd\n",
        "import re\n",
        "import os\n",
        "from sklearn.model_selection import train_test_split\n",
        "#for dirname, _, filenames in os.walk('/kaggle/input'):\n",
        "#    for filename in filenames:\n",
        "#        print(os.path.join(dirname, filename))"
      ],
      "id": "06737d1b"
    },
    {
      "cell_type": "code",
      "execution_count": null,
      "metadata": {
        "colab": {
          "base_uri": "https://localhost:8080/"
        },
        "id": "969d1401",
        "outputId": "d25a617a-3400-49f6-8b20-4dca24eb4e27"
      },
      "outputs": [
        {
          "name": "stdout",
          "output_type": "stream",
          "text": [
            "<class 'pandas.core.frame.DataFrame'>\n",
            "RangeIndex: 5572 entries, 0 to 5571\n",
            "Data columns (total 2 columns):\n",
            " #   Column    Non-Null Count  Dtype \n",
            "---  ------    --------------  ----- \n",
            " 0   Category  5572 non-null   object\n",
            " 1   Message   5572 non-null   object\n",
            "dtypes: object(2)\n",
            "memory usage: 87.2+ KB\n"
          ]
        }
      ],
      "source": [
        "# load data and get some basic information about it...\n",
        "df = pd.read_csv('spam.csv')\n",
        "df.info()"
      ],
      "id": "969d1401"
    },
    {
      "cell_type": "code",
      "execution_count": null,
      "metadata": {
        "id": "60c6b204",
        "outputId": "b6faa648-790c-466a-a6b8-05b6fbf9d41c"
      },
      "outputs": [
        {
          "data": {
            "text/html": [
              "<div>\n",
              "<style scoped>\n",
              "    .dataframe tbody tr th:only-of-type {\n",
              "        vertical-align: middle;\n",
              "    }\n",
              "\n",
              "    .dataframe tbody tr th {\n",
              "        vertical-align: top;\n",
              "    }\n",
              "\n",
              "    .dataframe thead th {\n",
              "        text-align: right;\n",
              "    }\n",
              "</style>\n",
              "<table border=\"1\" class=\"dataframe\">\n",
              "  <thead>\n",
              "    <tr style=\"text-align: right;\">\n",
              "      <th></th>\n",
              "      <th>Category</th>\n",
              "      <th>Message</th>\n",
              "    </tr>\n",
              "  </thead>\n",
              "  <tbody>\n",
              "    <tr>\n",
              "      <th>0</th>\n",
              "      <td>ham</td>\n",
              "      <td>Go until jurong point, crazy.. Available only ...</td>\n",
              "    </tr>\n",
              "    <tr>\n",
              "      <th>1</th>\n",
              "      <td>ham</td>\n",
              "      <td>Ok lar... Joking wif u oni...</td>\n",
              "    </tr>\n",
              "    <tr>\n",
              "      <th>2</th>\n",
              "      <td>spam</td>\n",
              "      <td>Free entry in 2 a wkly comp to win FA Cup fina...</td>\n",
              "    </tr>\n",
              "    <tr>\n",
              "      <th>3</th>\n",
              "      <td>ham</td>\n",
              "      <td>U dun say so early hor... U c already then say...</td>\n",
              "    </tr>\n",
              "    <tr>\n",
              "      <th>4</th>\n",
              "      <td>ham</td>\n",
              "      <td>Nah I don't think he goes to usf, he lives aro...</td>\n",
              "    </tr>\n",
              "  </tbody>\n",
              "</table>\n",
              "</div>"
            ],
            "text/plain": [
              "  Category                                            Message\n",
              "0      ham  Go until jurong point, crazy.. Available only ...\n",
              "1      ham                      Ok lar... Joking wif u oni...\n",
              "2     spam  Free entry in 2 a wkly comp to win FA Cup fina...\n",
              "3      ham  U dun say so early hor... U c already then say...\n",
              "4      ham  Nah I don't think he goes to usf, he lives aro..."
            ]
          },
          "execution_count": 3,
          "metadata": {},
          "output_type": "execute_result"
        }
      ],
      "source": [
        "# let's show how the dataset look like.\n",
        "df.head()"
      ],
      "id": "60c6b204"
    },
    {
      "cell_type": "code",
      "execution_count": null,
      "metadata": {
        "colab": {
          "base_uri": "https://localhost:8080/"
        },
        "id": "dcc86f0f",
        "outputId": "6d16dbdd-48e4-48ee-ee62-1a5a0be11525"
      },
      "outputs": [
        {
          "name": "stdout",
          "output_type": "stream",
          "text": [
            "percentages of Category column categories: \n",
            "ham     86.593683\n",
            "spam    13.406317\n",
            "Name: Category, dtype: float64\n"
          ]
        }
      ],
      "source": [
        "print('percentages of Category column categories: ')\n",
        "print(df['Category'].value_counts(normalize=True)*100)"
      ],
      "id": "dcc86f0f"
    },
    {
      "cell_type": "code",
      "execution_count": null,
      "metadata": {
        "id": "3a639b9a"
      },
      "outputs": [],
      "source": [
        "x_train,x_test,y_train,y_test=train_test_split(df['Message'],df['Category'],\n",
        "                                               test_size=0.2,random_state=42)\n",
        "training_set=pd.concat([x_train,y_train],axis=1)\n",
        "testing_set=pd.concat([x_test,y_test],axis=1)"
      ],
      "id": "3a639b9a"
    },
    {
      "cell_type": "code",
      "execution_count": null,
      "metadata": {
        "colab": {
          "base_uri": "https://localhost:8080/"
        },
        "id": "e7038560",
        "outputId": "3e3690bf-7604-4d3b-a2e9-bc95a02647c4"
      },
      "outputs": [
        {
          "name": "stdout",
          "output_type": "stream",
          "text": [
            "training set shape:  (4457, 2)\n",
            "testing set shape:  (1115, 2)\n"
          ]
        }
      ],
      "source": [
        "print('training set shape: ',training_set.shape)\n",
        "print('testing set shape: ',testing_set.shape)"
      ],
      "id": "e7038560"
    },
    {
      "cell_type": "code",
      "execution_count": null,
      "metadata": {
        "colab": {
          "base_uri": "https://localhost:8080/"
        },
        "id": "cd8e646c",
        "outputId": "1d35e5bb-e918-4662-b241-4fdea69dc867"
      },
      "outputs": [
        {
          "name": "stdout",
          "output_type": "stream",
          "text": [
            "percentages of Category column categories in Training Dataset: \n",
            " ham     86.582903\n",
            "spam    13.417097\n",
            "Name: Category, dtype: float64\n",
            "percentages of Category column categories in Validation Dataset: \n",
            " ham     86.636771\n",
            "spam    13.363229\n",
            "Name: Category, dtype: float64\n"
          ]
        }
      ],
      "source": [
        "print('percentages of Category column categories in Training Dataset: \\n',training_set['Category'].value_counts(normalize=True)*100)\n",
        "print('percentages of Category column categories in Validation Dataset: \\n',testing_set['Category'].value_counts(normalize=True)*100)"
      ],
      "id": "cd8e646c"
    },
    {
      "cell_type": "code",
      "execution_count": null,
      "metadata": {
        "colab": {
          "base_uri": "https://localhost:8080/"
        },
        "id": "9fc7e5a6",
        "outputId": "8ea98453-6745-4546-c58b-eee6733d5db0"
      },
      "outputs": [
        {
          "name": "stderr",
          "output_type": "stream",
          "text": [
            "/usr/local/lib/python3.7/dist-packages/ipykernel_launcher.py:1: FutureWarning: The default value of regex will change from True to False in a future version.\n",
            "  \"\"\"Entry point for launching an IPython kernel.\n",
            "/usr/local/lib/python3.7/dist-packages/ipykernel_launcher.py:2: FutureWarning: The default value of regex will change from True to False in a future version.\n",
            "  \n"
          ]
        }
      ],
      "source": [
        "training_set['Message'] = training_set['Message'].str.replace('\\W', ' ')\n",
        "testing_set['Message'] = testing_set['Message'].str.replace('\\W', ' ')\n",
        "training_set['Message'] = training_set['Message'].str.lower()\n",
        "testing_set['Message'] = testing_set['Message'].str.lower()"
      ],
      "id": "9fc7e5a6"
    },
    {
      "cell_type": "code",
      "execution_count": null,
      "metadata": {
        "id": "3e214734"
      },
      "outputs": [],
      "source": [
        "training_set['Message']=training_set['Message'].str.split()"
      ],
      "id": "3e214734"
    },
    {
      "cell_type": "code",
      "execution_count": null,
      "metadata": {
        "id": "19e41ff0"
      },
      "outputs": [],
      "source": [
        "# 1- collecting all of the words in all messages....\n",
        "vocab=[]\n",
        "for lst in training_set['Message']:\n",
        "    for i in lst:\n",
        "        vocab.append(i)\n",
        "vocab=list(set(vocab))"
      ],
      "id": "19e41ff0"
    },
    {
      "cell_type": "code",
      "execution_count": null,
      "metadata": {
        "colab": {
          "base_uri": "https://localhost:8080/",
          "height": 682
        },
        "id": "53eadafa",
        "outputId": "9e5ede4e-2350-47b5-e8fe-da360c69b931"
      },
      "outputs": [
        {
          "data": {
            "text/html": [
              "\n",
              "  <div id=\"df-ca509d84-c2db-4d24-bc02-7e479c854cb1\">\n",
              "    <div class=\"colab-df-container\">\n",
              "      <div>\n",
              "<style scoped>\n",
              "    .dataframe tbody tr th:only-of-type {\n",
              "        vertical-align: middle;\n",
              "    }\n",
              "\n",
              "    .dataframe tbody tr th {\n",
              "        vertical-align: top;\n",
              "    }\n",
              "\n",
              "    .dataframe thead th {\n",
              "        text-align: right;\n",
              "    }\n",
              "</style>\n",
              "<table border=\"1\" class=\"dataframe\">\n",
              "  <thead>\n",
              "    <tr style=\"text-align: right;\">\n",
              "      <th></th>\n",
              "      <th>Message</th>\n",
              "      <th>Category</th>\n",
              "      <th>yesterday</th>\n",
              "      <th>87131</th>\n",
              "      <th>optin</th>\n",
              "      <th>fffff</th>\n",
              "      <th>2day</th>\n",
              "      <th>landmark</th>\n",
              "      <th>shoes</th>\n",
              "      <th>talking</th>\n",
              "      <th>...</th>\n",
              "      <th>2geva</th>\n",
              "      <th>burrito</th>\n",
              "      <th>inform</th>\n",
              "      <th>broad</th>\n",
              "      <th>din</th>\n",
              "      <th>favor</th>\n",
              "      <th>blokes</th>\n",
              "      <th>mummy</th>\n",
              "      <th>vodka</th>\n",
              "      <th>woould</th>\n",
              "    </tr>\n",
              "  </thead>\n",
              "  <tbody>\n",
              "    <tr>\n",
              "      <th>0</th>\n",
              "      <td>[go, until, jurong, point, crazy, available, o...</td>\n",
              "      <td>ham</td>\n",
              "      <td>0.0</td>\n",
              "      <td>0.0</td>\n",
              "      <td>0.0</td>\n",
              "      <td>0.0</td>\n",
              "      <td>0.0</td>\n",
              "      <td>0.0</td>\n",
              "      <td>0.0</td>\n",
              "      <td>0.0</td>\n",
              "      <td>...</td>\n",
              "      <td>0.0</td>\n",
              "      <td>0.0</td>\n",
              "      <td>0.0</td>\n",
              "      <td>0.0</td>\n",
              "      <td>0.0</td>\n",
              "      <td>0.0</td>\n",
              "      <td>0.0</td>\n",
              "      <td>0.0</td>\n",
              "      <td>0.0</td>\n",
              "      <td>0.0</td>\n",
              "    </tr>\n",
              "    <tr>\n",
              "      <th>1</th>\n",
              "      <td>[ok, lar, joking, wif, u, oni]</td>\n",
              "      <td>ham</td>\n",
              "      <td>0.0</td>\n",
              "      <td>0.0</td>\n",
              "      <td>0.0</td>\n",
              "      <td>0.0</td>\n",
              "      <td>0.0</td>\n",
              "      <td>0.0</td>\n",
              "      <td>0.0</td>\n",
              "      <td>0.0</td>\n",
              "      <td>...</td>\n",
              "      <td>0.0</td>\n",
              "      <td>0.0</td>\n",
              "      <td>0.0</td>\n",
              "      <td>0.0</td>\n",
              "      <td>0.0</td>\n",
              "      <td>0.0</td>\n",
              "      <td>0.0</td>\n",
              "      <td>0.0</td>\n",
              "      <td>0.0</td>\n",
              "      <td>0.0</td>\n",
              "    </tr>\n",
              "    <tr>\n",
              "      <th>2</th>\n",
              "      <td>[free, entry, in, 2, a, wkly, comp, to, win, f...</td>\n",
              "      <td>spam</td>\n",
              "      <td>0.0</td>\n",
              "      <td>0.0</td>\n",
              "      <td>0.0</td>\n",
              "      <td>0.0</td>\n",
              "      <td>0.0</td>\n",
              "      <td>0.0</td>\n",
              "      <td>0.0</td>\n",
              "      <td>0.0</td>\n",
              "      <td>...</td>\n",
              "      <td>0.0</td>\n",
              "      <td>0.0</td>\n",
              "      <td>0.0</td>\n",
              "      <td>0.0</td>\n",
              "      <td>0.0</td>\n",
              "      <td>0.0</td>\n",
              "      <td>0.0</td>\n",
              "      <td>0.0</td>\n",
              "      <td>0.0</td>\n",
              "      <td>0.0</td>\n",
              "    </tr>\n",
              "    <tr>\n",
              "      <th>3</th>\n",
              "      <td>[u, dun, say, so, early, hor, u, c, already, t...</td>\n",
              "      <td>ham</td>\n",
              "      <td>0.0</td>\n",
              "      <td>0.0</td>\n",
              "      <td>0.0</td>\n",
              "      <td>0.0</td>\n",
              "      <td>0.0</td>\n",
              "      <td>0.0</td>\n",
              "      <td>0.0</td>\n",
              "      <td>0.0</td>\n",
              "      <td>...</td>\n",
              "      <td>0.0</td>\n",
              "      <td>0.0</td>\n",
              "      <td>0.0</td>\n",
              "      <td>0.0</td>\n",
              "      <td>0.0</td>\n",
              "      <td>0.0</td>\n",
              "      <td>0.0</td>\n",
              "      <td>0.0</td>\n",
              "      <td>0.0</td>\n",
              "      <td>0.0</td>\n",
              "    </tr>\n",
              "    <tr>\n",
              "      <th>4</th>\n",
              "      <td>[nah, i, don, t, think, he, goes, to, usf, he,...</td>\n",
              "      <td>ham</td>\n",
              "      <td>0.0</td>\n",
              "      <td>0.0</td>\n",
              "      <td>0.0</td>\n",
              "      <td>0.0</td>\n",
              "      <td>0.0</td>\n",
              "      <td>0.0</td>\n",
              "      <td>0.0</td>\n",
              "      <td>0.0</td>\n",
              "      <td>...</td>\n",
              "      <td>0.0</td>\n",
              "      <td>0.0</td>\n",
              "      <td>0.0</td>\n",
              "      <td>0.0</td>\n",
              "      <td>0.0</td>\n",
              "      <td>0.0</td>\n",
              "      <td>0.0</td>\n",
              "      <td>0.0</td>\n",
              "      <td>0.0</td>\n",
              "      <td>0.0</td>\n",
              "    </tr>\n",
              "  </tbody>\n",
              "</table>\n",
              "<p>5 rows × 7742 columns</p>\n",
              "</div>\n",
              "      <button class=\"colab-df-convert\" onclick=\"convertToInteractive('df-ca509d84-c2db-4d24-bc02-7e479c854cb1')\"\n",
              "              title=\"Convert this dataframe to an interactive table.\"\n",
              "              style=\"display:none;\">\n",
              "        \n",
              "  <svg xmlns=\"http://www.w3.org/2000/svg\" height=\"24px\"viewBox=\"0 0 24 24\"\n",
              "       width=\"24px\">\n",
              "    <path d=\"M0 0h24v24H0V0z\" fill=\"none\"/>\n",
              "    <path d=\"M18.56 5.44l.94 2.06.94-2.06 2.06-.94-2.06-.94-.94-2.06-.94 2.06-2.06.94zm-11 1L8.5 8.5l.94-2.06 2.06-.94-2.06-.94L8.5 2.5l-.94 2.06-2.06.94zm10 10l.94 2.06.94-2.06 2.06-.94-2.06-.94-.94-2.06-.94 2.06-2.06.94z\"/><path d=\"M17.41 7.96l-1.37-1.37c-.4-.4-.92-.59-1.43-.59-.52 0-1.04.2-1.43.59L10.3 9.45l-7.72 7.72c-.78.78-.78 2.05 0 2.83L4 21.41c.39.39.9.59 1.41.59.51 0 1.02-.2 1.41-.59l7.78-7.78 2.81-2.81c.8-.78.8-2.07 0-2.86zM5.41 20L4 18.59l7.72-7.72 1.47 1.35L5.41 20z\"/>\n",
              "  </svg>\n",
              "      </button>\n",
              "      \n",
              "  <style>\n",
              "    .colab-df-container {\n",
              "      display:flex;\n",
              "      flex-wrap:wrap;\n",
              "      gap: 12px;\n",
              "    }\n",
              "\n",
              "    .colab-df-convert {\n",
              "      background-color: #E8F0FE;\n",
              "      border: none;\n",
              "      border-radius: 50%;\n",
              "      cursor: pointer;\n",
              "      display: none;\n",
              "      fill: #1967D2;\n",
              "      height: 32px;\n",
              "      padding: 0 0 0 0;\n",
              "      width: 32px;\n",
              "    }\n",
              "\n",
              "    .colab-df-convert:hover {\n",
              "      background-color: #E2EBFA;\n",
              "      box-shadow: 0px 1px 2px rgba(60, 64, 67, 0.3), 0px 1px 3px 1px rgba(60, 64, 67, 0.15);\n",
              "      fill: #174EA6;\n",
              "    }\n",
              "\n",
              "    [theme=dark] .colab-df-convert {\n",
              "      background-color: #3B4455;\n",
              "      fill: #D2E3FC;\n",
              "    }\n",
              "\n",
              "    [theme=dark] .colab-df-convert:hover {\n",
              "      background-color: #434B5C;\n",
              "      box-shadow: 0px 1px 3px 1px rgba(0, 0, 0, 0.15);\n",
              "      filter: drop-shadow(0px 1px 2px rgba(0, 0, 0, 0.3));\n",
              "      fill: #FFFFFF;\n",
              "    }\n",
              "  </style>\n",
              "\n",
              "      <script>\n",
              "        const buttonEl =\n",
              "          document.querySelector('#df-ca509d84-c2db-4d24-bc02-7e479c854cb1 button.colab-df-convert');\n",
              "        buttonEl.style.display =\n",
              "          google.colab.kernel.accessAllowed ? 'block' : 'none';\n",
              "\n",
              "        async function convertToInteractive(key) {\n",
              "          const element = document.querySelector('#df-ca509d84-c2db-4d24-bc02-7e479c854cb1');\n",
              "          const dataTable =\n",
              "            await google.colab.kernel.invokeFunction('convertToInteractive',\n",
              "                                                     [key], {});\n",
              "          if (!dataTable) return;\n",
              "\n",
              "          const docLinkHtml = 'Like what you see? Visit the ' +\n",
              "            '<a target=\"_blank\" href=https://colab.research.google.com/notebooks/data_table.ipynb>data table notebook</a>'\n",
              "            + ' to learn more about interactive tables.';\n",
              "          element.innerHTML = '';\n",
              "          dataTable['output_type'] = 'display_data';\n",
              "          await google.colab.output.renderOutput(dataTable, element);\n",
              "          const docLink = document.createElement('div');\n",
              "          docLink.innerHTML = docLinkHtml;\n",
              "          element.appendChild(docLink);\n",
              "        }\n",
              "      </script>\n",
              "    </div>\n",
              "  </div>\n",
              "  "
            ],
            "text/plain": [
              "                                             Message Category  yesterday  \\\n",
              "0  [go, until, jurong, point, crazy, available, o...      ham        0.0   \n",
              "1                     [ok, lar, joking, wif, u, oni]      ham        0.0   \n",
              "2  [free, entry, in, 2, a, wkly, comp, to, win, f...     spam        0.0   \n",
              "3  [u, dun, say, so, early, hor, u, c, already, t...      ham        0.0   \n",
              "4  [nah, i, don, t, think, he, goes, to, usf, he,...      ham        0.0   \n",
              "\n",
              "   87131  optin  fffff  2day  landmark  shoes  talking  ...  2geva  burrito  \\\n",
              "0    0.0    0.0    0.0   0.0       0.0    0.0      0.0  ...    0.0      0.0   \n",
              "1    0.0    0.0    0.0   0.0       0.0    0.0      0.0  ...    0.0      0.0   \n",
              "2    0.0    0.0    0.0   0.0       0.0    0.0      0.0  ...    0.0      0.0   \n",
              "3    0.0    0.0    0.0   0.0       0.0    0.0      0.0  ...    0.0      0.0   \n",
              "4    0.0    0.0    0.0   0.0       0.0    0.0      0.0  ...    0.0      0.0   \n",
              "\n",
              "   inform  broad  din  favor  blokes  mummy  vodka  woould  \n",
              "0     0.0    0.0  0.0    0.0     0.0    0.0    0.0     0.0  \n",
              "1     0.0    0.0  0.0    0.0     0.0    0.0    0.0     0.0  \n",
              "2     0.0    0.0  0.0    0.0     0.0    0.0    0.0     0.0  \n",
              "3     0.0    0.0  0.0    0.0     0.0    0.0    0.0     0.0  \n",
              "4     0.0    0.0  0.0    0.0     0.0    0.0    0.0     0.0  \n",
              "\n",
              "[5 rows x 7742 columns]"
            ]
          },
          "execution_count": 14,
          "metadata": {},
          "output_type": "execute_result"
        }
      ],
      "source": [
        "# 2- counting the number of words in each message and merge this into the training dataframe..\n",
        "word_counts_per_sms={unique_word: [0]*len(training_set['Message']) for unique_word in vocab}\n",
        "for idx, lst in enumerate(training_set['Message']):\n",
        "    for word in lst:\n",
        "        word_counts_per_sms[word][idx] +=1\n",
        "word_counter=pd.DataFrame(word_counts_per_sms)\n",
        "training_set_clean = pd.concat([training_set, word_counter], axis=1)\n",
        "training_set_clean.head()"
      ],
      "id": "53eadafa"
    },
    {
      "cell_type": "code",
      "execution_count": null,
      "metadata": {
        "colab": {
          "base_uri": "https://localhost:8080/"
        },
        "id": "ef6cbe6d",
        "outputId": "455ce95a-6820-42b6-a007-39a85c8d9254"
      },
      "outputs": [
        {
          "name": "stdout",
          "output_type": "stream",
          "text": [
            "number of spam messages in Training DataFrame:  598\n",
            "number of ham messages in Training DataFrame:  3859\n",
            "probability of spam messages in Training DataFrame:  0.13417096701817366\n",
            "probability of ham messages in Training DataFrame:  0.8658290329818263\n"
          ]
        }
      ],
      "source": [
        "# 1- what is the probability of Spam and Ham messages in Training/Testing Dataset\n",
        "spam_length = len(training_set[training_set['Category'] == 'spam'])\n",
        "ham_length = len(training_set[training_set['Category'] == 'ham'])\n",
        "print('number of spam messages in Training DataFrame: ', spam_length)\n",
        "print('number of ham messages in Training DataFrame: ', ham_length)\n",
        "p_spam = spam_length / len(training_set)\n",
        "p_ham = ham_length / len(training_set)\n",
        "print('probability of spam messages in Training DataFrame: ', p_spam)\n",
        "print('probability of ham messages in Training DataFrame: ', p_ham)"
      ],
      "id": "ef6cbe6d"
    },
    {
      "cell_type": "code",
      "execution_count": null,
      "metadata": {
        "colab": {
          "background_save": true
        },
        "id": "61dfdb1a"
      },
      "outputs": [],
      "source": [
        "# 2- what is the value of the liklihood probability of message when Spam/Ham is True\n",
        "n_words_spam_message = training_set[training_set['Category'] == 'spam']['Message'].apply(len)\n",
        "n_words_ham_message = training_set[training_set['Category'] == 'ham']['Message'].apply(len)\n",
        "#N(spam)\n",
        "n_spam = n_words_spam_message.sum()\n",
        "#N(Ham)\n",
        "n_ham = n_words_ham_message.sum()\n",
        "##\n",
        "spam_dict={word:0 for word in vocab}\n",
        "ham_dict={word:0 for word in vocab}\n",
        "alpha = 1\n",
        "for word in vocab:\n",
        "    # N(W(i) | Spam)\n",
        "    n_word_given_spam = training_set_clean[training_set_clean['Category'] == 'spam'][word].sum()\n",
        "    # P(W(i) | Spam)\n",
        "    p_word_given_spam = (n_word_given_spam + alpha) / (n_spam + alpha * len(vocab))\n",
        "    spam_dict[word] = p_word_given_spam\n",
        "    n_word_given_ham = training_set_clean[training_set_clean['Category'] == 'ham'][word].sum()\n",
        "    # P(W(i) | Ham)\n",
        "    p_word_given_ham = (n_word_given_ham + alpha) / (n_ham + alpha * len(vocab))\n",
        "    ham_dict[word] = p_word_given_ham"
      ],
      "id": "61dfdb1a"
    },
    {
      "cell_type": "code",
      "execution_count": null,
      "metadata": {
        "id": "bd953026"
      },
      "outputs": [],
      "source": [
        "# now let's write a function to classify messages based on the probability of word given spam/ham\n",
        "def bayes_filter(message):\n",
        "    # text processing\n",
        "    message = re.sub('\\W', ' ', message)\n",
        "    message = message.lower()\n",
        "    message = message.split()\n",
        "    # set p_spam_given_word / set_ham_given_word equal to p spam and p ham\n",
        "    p_spam_given_word = p_spam\n",
        "    p_ham_given_word = p_ham\n",
        "    for word in message:\n",
        "        if word in spam_dict.keys() or word in ham_dict.keys():\n",
        "            p_spam_given_word *= spam_dict[word]\n",
        "            p_ham_given_word *= ham_dict[word]\n",
        "    print('P(Spam | W) = ', p_spam_given_word)\n",
        "    print('P(Ham | W) = ', p_ham_given_word)\n",
        "    if p_spam_given_word > p_ham_given_word:\n",
        "        print('Category: Spam')\n",
        "    elif p_spam_given_word < p_ham_given_word:\n",
        "        print('Category: Ham')\n",
        "    else:\n",
        "        print('Maybe one of Them.')"
      ],
      "id": "bd953026"
    },
    {
      "cell_type": "code",
      "execution_count": null,
      "metadata": {
        "id": "db291894",
        "outputId": "78792bb3-a7d7-4c5e-967c-ac1f6961bdf1"
      },
      "outputs": [
        {
          "name": "stdout",
          "output_type": "stream",
          "text": [
            "P(Spam | W) =  5.285960360968486e-37\n",
            "P(Ham | W) =  1.7090184267541062e-33\n",
            "Category: Ham\n"
          ]
        }
      ],
      "source": [
        "bayes_filter('U dun say so early hor... U c already then say')"
      ],
      "id": "db291894"
    },
    {
      "cell_type": "code",
      "execution_count": null,
      "metadata": {
        "id": "da6210e6",
        "outputId": "260f069f-9fbc-4f7a-d057-8d7b7ff2d7a6"
      },
      "outputs": [
        {
          "name": "stdout",
          "output_type": "stream",
          "text": [
            "P(Spam | W) =  7.225048739561725e-25\n",
            "P(Ham | W) =  8.50585359063866e-22\n",
            "Category: Ham\n"
          ]
        }
      ],
      "source": [
        "bayes_filter(\"Sounds good, Tom, then see u there\")"
      ],
      "id": "da6210e6"
    },
    {
      "cell_type": "code",
      "execution_count": null,
      "metadata": {
        "id": "0f2b82b0"
      },
      "outputs": [],
      "source": [
        "def bayes_classifier(message):\n",
        "    # text processing\n",
        "    message = re.sub('\\W', ' ', message)\n",
        "    message = message.lower()\n",
        "    message = message.split()\n",
        "    # set p_spam_given_word / set_ham_given_word equal to p spam and p ham\n",
        "    p_spam_given_word = p_spam\n",
        "    p_ham_given_word = p_ham\n",
        "    for word in message:\n",
        "        if word in spam_dict.keys() or word in ham_dict.keys():\n",
        "            p_spam_given_word *= spam_dict[word]\n",
        "            p_ham_given_word *= ham_dict[word]\n",
        "    if p_spam_given_word > p_ham_given_word:\n",
        "        return 'spam'\n",
        "    elif p_spam_given_word < p_ham_given_word:\n",
        "        return 'ham'\n",
        "    else:\n",
        "        return 'maybe both'"
      ],
      "id": "0f2b82b0"
    },
    {
      "cell_type": "code",
      "execution_count": null,
      "metadata": {
        "id": "77b9f223",
        "outputId": "138291dc-913b-449e-d82b-7e9d8fbb4a92"
      },
      "outputs": [
        {
          "data": {
            "text/html": [
              "<div>\n",
              "<style scoped>\n",
              "    .dataframe tbody tr th:only-of-type {\n",
              "        vertical-align: middle;\n",
              "    }\n",
              "\n",
              "    .dataframe tbody tr th {\n",
              "        vertical-align: top;\n",
              "    }\n",
              "\n",
              "    .dataframe thead th {\n",
              "        text-align: right;\n",
              "    }\n",
              "</style>\n",
              "<table border=\"1\" class=\"dataframe\">\n",
              "  <thead>\n",
              "    <tr style=\"text-align: right;\">\n",
              "      <th></th>\n",
              "      <th>Message</th>\n",
              "      <th>Category</th>\n",
              "      <th>predicted</th>\n",
              "    </tr>\n",
              "  </thead>\n",
              "  <tbody>\n",
              "    <tr>\n",
              "      <th>3245</th>\n",
              "      <td>squeeeeeze   this is christmas hug   if u lik ...</td>\n",
              "      <td>ham</td>\n",
              "      <td>ham</td>\n",
              "    </tr>\n",
              "    <tr>\n",
              "      <th>944</th>\n",
              "      <td>and also i ve sorta blown him off a couple tim...</td>\n",
              "      <td>ham</td>\n",
              "      <td>ham</td>\n",
              "    </tr>\n",
              "    <tr>\n",
              "      <th>1044</th>\n",
              "      <td>mmm thats better now i got a roast down me  i ...</td>\n",
              "      <td>ham</td>\n",
              "      <td>ham</td>\n",
              "    </tr>\n",
              "    <tr>\n",
              "      <th>2484</th>\n",
              "      <td>mm have some kanji dont eat anything heavy ok</td>\n",
              "      <td>ham</td>\n",
              "      <td>ham</td>\n",
              "    </tr>\n",
              "    <tr>\n",
              "      <th>812</th>\n",
              "      <td>so there s a ring that comes with the guys cos...</td>\n",
              "      <td>ham</td>\n",
              "      <td>ham</td>\n",
              "    </tr>\n",
              "  </tbody>\n",
              "</table>\n",
              "</div>"
            ],
            "text/plain": [
              "                                                Message Category predicted\n",
              "3245  squeeeeeze   this is christmas hug   if u lik ...      ham       ham\n",
              "944   and also i ve sorta blown him off a couple tim...      ham       ham\n",
              "1044  mmm thats better now i got a roast down me  i ...      ham       ham\n",
              "2484      mm have some kanji dont eat anything heavy ok      ham       ham\n",
              "812   so there s a ring that comes with the guys cos...      ham       ham"
            ]
          },
          "execution_count": 18,
          "metadata": {},
          "output_type": "execute_result"
        }
      ],
      "source": [
        "testing_set['predicted'] = testing_set['Message'].apply(bayes_classifier)\n",
        "testing_set.head()"
      ],
      "id": "77b9f223"
    },
    {
      "cell_type": "code",
      "execution_count": null,
      "metadata": {
        "id": "1d7a2c71",
        "outputId": "d2208bc4-98bb-487a-ce19-6e4102b6e0e1"
      },
      "outputs": [
        {
          "name": "stdout",
          "output_type": "stream",
          "text": [
            "Correct: 964\n",
            "Incorrect: 151\n",
            "Accuracy: 0.8645739910313901\n"
          ]
        }
      ],
      "source": [
        "correct = 0\n",
        "total = testing_set.shape[0]\n",
        "    \n",
        "for row in testing_set.iterrows():\n",
        "    row = row[1]\n",
        "    if row['Category'] == row['predicted']:\n",
        "        correct += 1\n",
        "        \n",
        "print('Correct:', correct)\n",
        "print('Incorrect:', total - correct)\n",
        "print('Accuracy:', correct/total)"
      ],
      "id": "1d7a2c71"
    },
    {
      "cell_type": "code",
      "execution_count": null,
      "metadata": {
        "id": "a250dfeb"
      },
      "outputs": [],
      "source": [],
      "id": "a250dfeb"
    }
  ],
  "metadata": {
    "colab": {
      "provenance": []
    },
    "kernelspec": {
      "display_name": "Python 3",
      "language": "python",
      "name": "python3"
    },
    "language_info": {
      "codemirror_mode": {
        "name": "ipython",
        "version": 3
      },
      "file_extension": ".py",
      "mimetype": "text/x-python",
      "name": "python",
      "nbconvert_exporter": "python",
      "pygments_lexer": "ipython3",
      "version": "3.7.12"
    },
    "papermill": {
      "default_parameters": {},
      "duration": 734.680435,
      "end_time": "2022-03-27T15:27:07.137719",
      "environment_variables": {},
      "exception": null,
      "input_path": "__notebook__.ipynb",
      "output_path": "__notebook__.ipynb",
      "parameters": {},
      "start_time": "2022-03-27T15:14:52.457284",
      "version": "2.3.3"
    }
  },
  "nbformat": 4,
  "nbformat_minor": 5
}